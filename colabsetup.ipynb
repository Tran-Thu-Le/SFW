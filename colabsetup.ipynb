{
  "nbformat": 4,
  "nbformat_minor": 0,
  "metadata": {
    "colab": {
      "name": "Untitled0.ipynb",
      "provenance": [],
      "toc_visible": true,
      "authorship_tag": "ABX9TyMODKbcUSeYngv6QATI5o61",
      "include_colab_link": true
    },
    "kernelspec": {
      "name": "python3",
      "display_name": "Python 3"
    }
  },
  "cells": [
    {
      "cell_type": "markdown",
      "metadata": {
        "id": "view-in-github",
        "colab_type": "text"
      },
      "source": [
        "<a href=\"https://colab.research.google.com/github/Tran-Thu-Le/SFW/blob/main/colabsetup.ipynb\" target=\"_parent\"><img src=\"https://colab.research.google.com/assets/colab-badge.svg\" alt=\"Open In Colab\"/></a>"
      ]
    },
    {
      "cell_type": "markdown",
      "metadata": {
        "id": "3a-hnTQhf9gr"
      },
      "source": [
        "# Introduction to SFW Project\n",
        "\n",
        "SFW stands for Sliding Frank_Wolfe algorithm for solving Blasso problem.\n",
        "\n",
        "Blasso problem is the following \n",
        "\n",
        "\\begin{align}\n",
        "\\min_{\\mu} \\frac{1}{2}||y-\\mathscr A \\mu||^2+\\lambda ||\\mu||_{TV}\n",
        "\\end{align}\n",
        "\n",
        "This notebook should be run on Google Colab by clicking [here](https://colab.research.google.com/github/Tran-Thu-Le/SFW/blob/main/intro.ipynb).\n",
        "This notebook is used to create Python scripts when run on Colab."
      ]
    },
    {
      "cell_type": "markdown",
      "metadata": {
        "id": "RC9t8J7Dguvv"
      },
      "source": [
        "## Clone the repo\n",
        "\n",
        "For first time run, please remove `#` at the second command and then put it back."
      ]
    },
    {
      "cell_type": "code",
      "metadata": {
        "colab": {
          "base_uri": "https://localhost:8080/"
        },
        "id": "4htIM0BE_JxQ",
        "outputId": "fa810b27-8c32-4175-d168-7832c7f326d5"
      },
      "source": [
        "!git clone https://github.com/Tran-Thu-Le/SFW\n",
        "#%cd SFW"
      ],
      "execution_count": 1,
      "outputs": [
        {
          "output_type": "stream",
          "text": [
            "Cloning into 'SFW'...\n",
            "remote: Enumerating objects: 30, done.\u001b[K\n",
            "remote: Counting objects: 100% (30/30), done.\u001b[K\n",
            "remote: Compressing objects: 100% (26/26), done.\u001b[K\n",
            "remote: Total 30 (delta 10), reused 0 (delta 0), pack-reused 0\u001b[K\n",
            "Unpacking objects: 100% (30/30), done.\n",
            "/content/SFW\n"
          ],
          "name": "stdout"
        }
      ]
    },
    {
      "cell_type": "markdown",
      "metadata": {
        "id": "PPVYGw9njEU9"
      },
      "source": [
        "# Objects\n",
        "\n",
        "Run the code cells in this section to setup objects for SFW."
      ]
    },
    {
      "cell_type": "markdown",
      "metadata": {
        "id": "Keut2OVxyOwa"
      },
      "source": [
        "### kernels"
      ]
    },
    {
      "cell_type": "markdown",
      "metadata": {
        "id": "NgEV9_46zimK"
      },
      "source": [
        "#### gauss"
      ]
    },
    {
      "cell_type": "code",
      "metadata": {
        "id": "bnmTwUnazwfF",
        "outputId": "dc64645a-caae-410f-d974-d08d6b9fd1e2",
        "colab": {
          "base_uri": "https://localhost:8080/"
        }
      },
      "source": [
        "import numpy as np\n",
        "from scipy.integrate import quad\n",
        "\n",
        "class gauss1d(object):\n",
        "  def __init__(self, domain_meas, domain_l2f):\n",
        "    self.domain_meas=domain_meas\n",
        "    self.domain_l2f=domain_l2f\n",
        "    self.w=0.2\n",
        "\n",
        "  def param(self, arg):\n",
        "    return lambda x: 2**(-(x-arg)**2/self.w**2)\n",
        "\n",
        "  def norm(self, arg):\n",
        "    return quad(self.param(arg), self.domain_l2f[0], self.domain_l2f[1])[0]\n",
        "\n",
        "\n",
        "\n",
        "if __name__==\"__main__\":\n",
        "  domain_l2f=np.array([0., 1.])\n",
        "  domain_meas=np.array([0., 1.])\n",
        "  g=gauss1d(domain_meas, domain_l2f)\n",
        "  print(g.norm(0.5))\n",
        "\n",
        "\n"
      ],
      "execution_count": 6,
      "outputs": [
        {
          "output_type": "stream",
          "text": [
            "0.4244051399932198\n"
          ],
          "name": "stdout"
        }
      ]
    },
    {
      "cell_type": "markdown",
      "metadata": {
        "id": "bgBu9JqPjhkt"
      },
      "source": [
        "### l2function"
      ]
    },
    {
      "cell_type": "code",
      "metadata": {
        "colab": {
          "base_uri": "https://localhost:8080/"
        },
        "id": "sShKr7q6Np9k",
        "outputId": "df292660-5f16-416d-f2d3-6e409160bb52"
      },
      "source": [
        "%%writefile objects/l2function.py\n",
        "import numpy as np\n",
        "\n",
        "class l2function(object):\n",
        "  def __init__(self, vector, domain_l2f):\n",
        "    self.vector=vector\n",
        "    self.domain=domain\n",
        "\n",
        "    self.dim_domain=1\n",
        "    self.grid_size=len(self.vector)\n",
        "    self.grid=np.linspace(self.domain[0], self.domain[-1], self.grid_size) \n",
        "    self.function=lambda t: np.interp(t, self.grid, self.vector)\n",
        "\n",
        "if __name__==\"__main__\":\n",
        "  domain=[0., 1.]\n",
        "  grid=np.linspace(domain[0], domain[1], 10) \n",
        "  vector=grid**2\n",
        "  f=l2function(vector, domain)\n",
        "  print(\"attribute\", f.grid)\n",
        "  print(\"function\", f.function(0.5))\n"
      ],
      "execution_count": 4,
      "outputs": [
        {
          "output_type": "stream",
          "text": [
            "Writing objects/l2function.py\n"
          ],
          "name": "stdout"
        }
      ]
    },
    {
      "cell_type": "markdown",
      "metadata": {
        "id": "10DxnFz9kIGy"
      },
      "source": [
        "### measure"
      ]
    },
    {
      "cell_type": "code",
      "metadata": {
        "id": "Nhvboq22kOKa",
        "colab": {
          "base_uri": "https://localhost:8080/"
        },
        "outputId": "e201c16a-a7b4-4058-daa7-fd02fad8d64c"
      },
      "source": [
        "#%%writefile objects/measure.py\n",
        "import numpy as np\n",
        "\n",
        "class measure(object):\n",
        "  def __init__(self, coeffs, args, domain_meas):\n",
        "    assert(isinstance(coeffs, np.ndarray))\n",
        "    assert(isinstance(args, np.ndarray))\n",
        "    assert(isinstance(domain_meas, np.ndarray))\n",
        "    assert(len(coeffs) == args.shape[1] )\n",
        "    assert(args.shape[0] == domain_meas.shape[0])\n",
        "    assert(domain_meas.shape[1]==2 )\n",
        "\n",
        "    self.coeffs=coeffs\n",
        "    self.args=args\n",
        "    self.domain_meas=domain_meas\n",
        "\n",
        "    self.dim_arg=self.args.shape[0]\n",
        "    self.len=len(self.coeffs)\n",
        "    self.item=lambda i: (self.coeffs[i], self.args[:, i].reshape(-1,1))\n",
        "    self.norm=sum(np.abs(self.coeffs))\n",
        "\n",
        "if __name__==\"__main__\":\n",
        "  domain_meas=np.array([[0., 0.1], [1., 0.5]])\n",
        "  args=np.array([[0., 0.3, 0.6], [0.2, 0.2, 0.2]]) \n",
        "  coeffs=np.array([1., 1., 1.])\n",
        "  print(args)\n",
        "  mu=measure(coeffs, args, domain_meas)\n",
        "  print(\"attribute1\", mu.item(-1))\n",
        "  print(\"attribute2\", mu.norm)"
      ],
      "execution_count": 3,
      "outputs": [
        {
          "output_type": "stream",
          "text": [
            "[[0.  0.3 0.6]\n",
            " [0.2 0.2 0.2]]\n",
            "attribute1 (1.0, array([[0.6],\n",
            "       [0.2]]))\n",
            "attribite2 3.0\n"
          ],
          "name": "stdout"
        }
      ]
    },
    {
      "cell_type": "markdown",
      "metadata": {
        "id": "N8ZMW0CCw5E2"
      },
      "source": [
        ""
      ]
    },
    {
      "cell_type": "markdown",
      "metadata": {
        "id": "42in6c5QxY3i"
      },
      "source": [
        "### contfunction"
      ]
    },
    {
      "cell_type": "markdown",
      "metadata": {
        "id": "7QktjHfRxk-s"
      },
      "source": [
        "### atom"
      ]
    }
  ]
}