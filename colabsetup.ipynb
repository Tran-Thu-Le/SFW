{
  "nbformat": 4,
  "nbformat_minor": 0,
  "metadata": {
    "colab": {
      "name": "Untitled0.ipynb",
      "provenance": [],
      "toc_visible": true,
      "authorship_tag": "ABX9TyPJ1vn4OO6IwnZ5ftrzdkDb",
      "include_colab_link": true
    },
    "kernelspec": {
      "name": "python3",
      "display_name": "Python 3"
    }
  },
  "cells": [
    {
      "cell_type": "markdown",
      "metadata": {
        "id": "view-in-github",
        "colab_type": "text"
      },
      "source": [
        "<a href=\"https://colab.research.google.com/github/Tran-Thu-Le/SFW/blob/main/colabsetup.ipynb\" target=\"_parent\"><img src=\"https://colab.research.google.com/assets/colab-badge.svg\" alt=\"Open In Colab\"/></a>"
      ]
    },
    {
      "cell_type": "markdown",
      "metadata": {
        "id": "3a-hnTQhf9gr"
      },
      "source": [
        "# Introduction to SFW Project\n",
        "\n",
        "SFW stands for Sliding Frank_Wolfe algorithm for solving Blasso problem.\n",
        "\n",
        "Blasso problem is the following \n",
        "\n",
        "\\begin{align}\n",
        "\\min_{\\mu} \\frac{1}{2}||y-\\mathscr A \\mu||^2+\\lambda ||\\mu||_{TV}\n",
        "\\end{align}\n",
        "\n",
        "This notebook should be run on Google Colab by clicking [here](https://colab.research.google.com/github/Tran-Thu-Le/SFW/blob/main/intro.ipynb).\n",
        "This notebook is used to create Python scripts when run on Colab."
      ]
    },
    {
      "cell_type": "markdown",
      "metadata": {
        "id": "RC9t8J7Dguvv"
      },
      "source": [
        "## Clone the repo\n",
        "\n",
        "For first time run, please remove `#` at the second command and then put it back."
      ]
    },
    {
      "cell_type": "code",
      "metadata": {
        "colab": {
          "base_uri": "https://localhost:8080/"
        },
        "id": "4htIM0BE_JxQ",
        "outputId": "b9a4d0f8-c828-485e-b9ed-9deb20e28622"
      },
      "source": [
        "!git clone https://github.com/Tran-Thu-Le/SFW\n",
        "#%cd SFW"
      ],
      "execution_count": null,
      "outputs": [
        {
          "output_type": "stream",
          "text": [
            "Cloning into 'SFW'...\n",
            "remote: Enumerating objects: 21, done.\u001b[K\n",
            "remote: Counting objects: 100% (21/21), done.\u001b[K\n",
            "remote: Compressing objects: 100% (17/17), done.\u001b[K\n",
            "remote: Total 21 (delta 5), reused 0 (delta 0), pack-reused 0\u001b[K\n",
            "Unpacking objects: 100% (21/21), done.\n",
            "/content/SFW\n"
          ],
          "name": "stdout"
        }
      ]
    },
    {
      "cell_type": "markdown",
      "metadata": {
        "id": "PPVYGw9njEU9"
      },
      "source": [
        "# Objects\n",
        "\n",
        "Run the code cells in this section to setup objects for SFW."
      ]
    },
    {
      "cell_type": "markdown",
      "metadata": {
        "id": "bgBu9JqPjhkt"
      },
      "source": [
        "### l2function"
      ]
    },
    {
      "cell_type": "code",
      "metadata": {
        "colab": {
          "base_uri": "https://localhost:8080/"
        },
        "id": "sShKr7q6Np9k",
        "outputId": "856d4446-13a5-442b-d3fe-4ea63a7c68f9"
      },
      "source": [
        "#%%writefile objects/l2function.py\n",
        "import numpy as np\n",
        "\n",
        "class l2function(object):\n",
        "  def __init__(self, vector, domain_l2f):\n",
        "    self.vector=vector\n",
        "    self.domain=domain\n",
        "\n",
        "    self.dim_domain=1\n",
        "    self.grid_size=len(self.vector)\n",
        "    self.grid=np.linspace(self.domain[0], self.domain[-1], self.grid_size) \n",
        "    self.function=lambda t: np.interp(t, self.grid, self.vector)\n",
        "\n",
        "if __name__==\"__main__\":\n",
        "  domain=[0., 1.]\n",
        "  grid=np.linspace(domain[0], domain[1], 10) \n",
        "  vector=grid**2\n",
        "  f=l2function(vector, domain)\n",
        "  print(\"attribute\", f.grid)\n",
        "  print(\"function\", f.function(0.5))\n"
      ],
      "execution_count": 33,
      "outputs": [
        {
          "output_type": "stream",
          "text": [
            "attribute [0.         0.11111111 0.22222222 0.33333333 0.44444444 0.55555556\n",
            " 0.66666667 0.77777778 0.88888889 1.        ]\n",
            "function 0.25308641975308643\n"
          ],
          "name": "stdout"
        }
      ]
    },
    {
      "cell_type": "markdown",
      "metadata": {
        "id": "10DxnFz9kIGy"
      },
      "source": [
        "### measure"
      ]
    },
    {
      "cell_type": "code",
      "metadata": {
        "id": "Nhvboq22kOKa",
        "colab": {
          "base_uri": "https://localhost:8080/"
        },
        "outputId": "abfe4c1a-a1cd-4655-9c53-701730fa6de0"
      },
      "source": [
        "%%writefile objects/measure.py\n",
        "import numpy as np\n",
        "\n",
        "class measure(object):\n",
        "  def __init__(self, coeffs, args, domain_meas):\n",
        "    assert(isinstance(coeffs, np.ndarray))\n",
        "    assert(isinstance(args, np.ndarray))\n",
        "    assert(isinstance(domain_meas, np.ndarray))\n",
        "    assert(len(coeffs) == args.shape[1] )\n",
        "    assert(args.shape[0] == domain_meas.shape[0])\n",
        "    assert(domain_meas.shape[1]==2 )\n",
        "\n",
        "    self.coeffs=coeffs\n",
        "    self.args=args\n",
        "    self.domain_meas=domain_meas\n",
        "\n",
        "    self.dim_arg=self.args.shape[0]\n",
        "    self.len=len(self.coeffs)\n",
        "    self.item=lambda i: (self.coeffs[i], self.args[:, i].reshape(-1,1))\n",
        "    self.norm=sum(np.abs(self.coeffs))\n",
        "\n",
        "if __name__==\"__main__\":\n",
        "  domain_meas=np.array([[0., 0.1], [1., 0.5]])\n",
        "  args=np.array([[0., 0.3, 0.6], [0.2, 0.2, 0.2]]) \n",
        "  coeffs=np.array([1., 1., 1.])\n",
        "  print(args)\n",
        "  mu=measure(coeffs, args, domain_meas)\n",
        "  print(\"attribute1\", mu.item(-1))\n",
        "  print(\"attribite2\", mu.norm)"
      ],
      "execution_count": null,
      "outputs": [
        {
          "output_type": "stream",
          "text": [
            "Writing objects/measure.py\n"
          ],
          "name": "stdout"
        }
      ]
    },
    {
      "cell_type": "markdown",
      "metadata": {
        "id": "N8ZMW0CCw5E2"
      },
      "source": [
        ""
      ]
    },
    {
      "cell_type": "markdown",
      "metadata": {
        "id": "42in6c5QxY3i"
      },
      "source": [
        "### contfunction"
      ]
    },
    {
      "cell_type": "markdown",
      "metadata": {
        "id": "7QktjHfRxk-s"
      },
      "source": [
        "### atom"
      ]
    },
    {
      "cell_type": "markdown",
      "metadata": {
        "id": "Keut2OVxyOwa"
      },
      "source": [
        "### kernels"
      ]
    }
  ]
}