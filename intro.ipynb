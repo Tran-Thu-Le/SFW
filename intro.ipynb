{
  "nbformat": 4,
  "nbformat_minor": 0,
  "metadata": {
    "colab": {
      "name": "Untitled0.ipynb",
      "provenance": [],
      "authorship_tag": "ABX9TyMh6kD2QrgeKNokgCjirTrK",
      "include_colab_link": true
    },
    "kernelspec": {
      "name": "python3",
      "display_name": "Python 3"
    }
  },
  "cells": [
    {
      "cell_type": "markdown",
      "metadata": {
        "id": "view-in-github",
        "colab_type": "text"
      },
      "source": [
        "<a href=\"https://colab.research.google.com/github/Tran-Thu-Le/SFW/blob/main/intro.ipynb\" target=\"_parent\"><img src=\"https://colab.research.google.com/assets/colab-badge.svg\" alt=\"Open In Colab\"/></a>"
      ]
    },
    {
      "cell_type": "code",
      "metadata": {
        "colab": {
          "base_uri": "https://localhost:8080/"
        },
        "id": "4htIM0BE_JxQ",
        "outputId": "d4c05d08-aa66-4771-9e3e-4ce9634f6884"
      },
      "source": [
        "!git clone https://github.com/Tran-Thu-Le/demo\n",
        "!pwd\n",
        "#%cd demo\n",
        "!pwd\n",
        "%run exam1.py"
      ],
      "execution_count": 1,
      "outputs": [
        {
          "output_type": "stream",
          "text": [
            "Cloning into 'demo'...\n",
            "remote: Enumerating objects: 69, done.\u001b[K\n",
            "remote: Counting objects: 100% (69/69), done.\u001b[K\n",
            "remote: Compressing objects: 100% (66/66), done.\u001b[K\n",
            "remote: Total 69 (delta 30), reused 0 (delta 0), pack-reused 0\u001b[K\n",
            "Unpacking objects: 100% (69/69), done.\n",
            "/content\n",
            "/content/demo\n",
            "/content/demo\n",
            "Demo: Exam1 was run successfully\n"
          ],
          "name": "stdout"
        }
      ]
    },
    {
      "cell_type": "code",
      "metadata": {
        "colab": {
          "base_uri": "https://localhost:8080/"
        },
        "id": "sShKr7q6Np9k",
        "outputId": "6d197fa0-07eb-48f0-b637-e9512ef8ae40"
      },
      "source": [
        "#%%writefile l2func.py\n",
        "import numpy as np\n",
        "\n",
        "class l2_func_1d(object):\n",
        "  def __init__(self, vector, domain):\n",
        "    self.vector=vector\n",
        "    self.domain=domain\n",
        "\n",
        "    self.dim_domain=1\n",
        "    self.grid_size=len(self.vector)\n",
        "    self.grid=np.linspace(self.domain[0], self.domain[-1], self.grid_size) \n",
        "    self.function=lambda t: np.interp(t, self.grid, self.vector)\n",
        "\n",
        "if __name__==\"__main__\":\n",
        "  domain=[0., 1.]\n",
        "  grid=np.linspace(domain[0], domain[-1], 10) \n",
        "  vector=grid**2\n",
        "  f=l2_func_1d(vector, domain)\n",
        "  print(\"attribute\", f.grid)\n",
        "  print(\"function\", f.function(0.5))\n"
      ],
      "execution_count": 50,
      "outputs": [
        {
          "output_type": "stream",
          "text": [
            "attribute [0.         0.11111111 0.22222222 0.33333333 0.44444444 0.55555556\n",
            " 0.66666667 0.77777778 0.88888889 1.        ]\n",
            "function 0.25308641975308643\n"
          ],
          "name": "stdout"
        }
      ]
    }
  ]
}